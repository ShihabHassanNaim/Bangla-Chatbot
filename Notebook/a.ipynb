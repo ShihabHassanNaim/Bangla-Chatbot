{
 "cells": [
  {
   "cell_type": "code",
   "execution_count": 1,
   "id": "5802df0b",
   "metadata": {},
   "outputs": [
    {
     "name": "stdout",
     "output_type": "stream",
     "text": [
      "PyTorch version: 2.5.1+cu121\n",
      "CUDA available: True\n",
      "CUDA device name: NVIDIA GeForce RTX 4060 Ti\n"
     ]
    }
   ],
   "source": [
    "import torch\n",
    "print(\"PyTorch version:\", torch.__version__)\n",
    "print(\"CUDA available:\", torch.cuda.is_available())\n",
    "print(\"CUDA device name:\", torch.cuda.get_device_name(0) if torch.cuda.is_available() else \"No GPU\")\n"
   ]
  },
  {
   "cell_type": "code",
   "execution_count": 11,
   "id": "983424d0",
   "metadata": {},
   "outputs": [],
   "source": [
    "\n",
    "# Cell 1: Import necessary modules\n",
    "from langchain_community.chat_models import ChatOllama\n",
    "from langchain.schema import SystemMessage, HumanMessage\n",
    "\n"
   ]
  },
  {
   "cell_type": "code",
   "execution_count": 12,
   "id": "d7927b97",
   "metadata": {},
   "outputs": [],
   "source": [
    "\n",
    "# Cell 2: Initialize the Ollama LLM with LangChain\n",
    "llm = ChatOllama(\n",
    "    model=\"llama3.1\",\n",
    "    temperature=0.7\n",
    ")\n"
   ]
  },
  {
   "cell_type": "code",
   "execution_count": 13,
   "id": "02b4f7b2",
   "metadata": {},
   "outputs": [],
   "source": [
    "# Cell 3: Define a chat function with a Bangla system prompt\n",
    "def bangla_chat_with_langchain(user_prompt):\n",
    "    system_message = SystemMessage(\n",
    "        content=\"তুমি একজন জ্ঞানী এবং ভদ্র বাংলা সহকারী। সব প্রশ্নের উত্তর শুধুমাত্র বাংলায় দাও।\"\n",
    "    )\n",
    "    human_message = HumanMessage(content=user_prompt)\n",
    "    \n",
    "    response = llm.invoke([system_message, human_message])\n",
    "    return response.content\n",
    "\n"
   ]
  },
  {
   "cell_type": "code",
   "execution_count": 14,
   "id": "7614d4f2",
   "metadata": {},
   "outputs": [
    {
     "name": "stdout",
     "output_type": "stream",
     "text": [
      "চ্যাটবট: নমস্কার! আপনি কেমন আছেন?\n",
      "চ্যাটবট: শুভেচ্ছা! আপনি আরাধনা করুন।\n",
      "চ্যাটবট: আমার একটা ভালো খবর! আমি জানি যে, তোমাদের প্রশ্ন গুলোর উত্তর দিতে হবে এটা কিছুই সমস্যা নয়!\n",
      "চ্যাটবট: হ্যাঁ, আমি বাংলা ভাষা এবং বাংলা অক্ষরের জ্ঞানী।\n",
      "চ্যাটবট: এটা কেউ নির্ভিজ্ঞ চেষ্টা হয়েছে। \"বাল\" অনুপস্থিতির দ্বিধা সম্পর্কে, এবং \"পারো\" অনুভূতি ও আশ্চর্যের উল্লেখ।\n",
      "চ্যাটবট: আলবিদা! আবার দেখা হবে।\n"
     ]
    }
   ],
   "source": [
    "# Cell 4: Chat loop in Bangla\n",
    "while True:\n",
    "    user_input = input(\"আপনি: \")\n",
    "    if user_input.lower() in [\"exit\", \"quit\", \"bye\"]:\n",
    "        print(\"চ্যাটবট: আলবিদা! আবার দেখা হবে।\")\n",
    "        break\n",
    "    reply = bangla_chat_with_langchain(user_input)\n",
    "    print(\"চ্যাটবট:\", reply)\n"
   ]
  },
  {
   "cell_type": "code",
   "execution_count": null,
   "id": "5788523a",
   "metadata": {},
   "outputs": [],
   "source": []
  }
 ],
 "metadata": {
  "kernelspec": {
   "display_name": "venv",
   "language": "python",
   "name": "python3"
  },
  "language_info": {
   "codemirror_mode": {
    "name": "ipython",
    "version": 3
   },
   "file_extension": ".py",
   "mimetype": "text/x-python",
   "name": "python",
   "nbconvert_exporter": "python",
   "pygments_lexer": "ipython3",
   "version": "3.12.10"
  }
 },
 "nbformat": 4,
 "nbformat_minor": 5
}
